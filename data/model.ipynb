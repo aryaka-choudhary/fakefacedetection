{
 "cells": [
  {
   "cell_type": "code",
   "execution_count": 1,
   "id": "104439d7",
   "metadata": {},
   "outputs": [
    {
     "name": "stdout",
     "output_type": "stream",
     "text": [
      "Requirement already satisfied: mtcnn in /opt/homebrew/Caskroom/miniconda/base/lib/python3.8/site-packages (0.1.1)\n",
      "Requirement already satisfied: opencv-python>=4.1.0 in /opt/homebrew/Caskroom/miniconda/base/lib/python3.8/site-packages (from mtcnn) (4.5.4.60)\n",
      "Requirement already satisfied: keras>=2.0.0 in /opt/homebrew/Caskroom/miniconda/base/lib/python3.8/site-packages (from mtcnn) (2.7.0)\n",
      "Requirement already satisfied: numpy>=1.17.3 in /opt/homebrew/Caskroom/miniconda/base/lib/python3.8/site-packages (from opencv-python>=4.1.0->mtcnn) (1.21.4)\n",
      "Note: you may need to restart the kernel to use updated packages.\n"
     ]
    }
   ],
   "source": [
    "pip install mtcnn"
   ]
  },
  {
   "cell_type": "code",
   "execution_count": 3,
   "id": "e5286089",
   "metadata": {},
   "outputs": [
    {
     "name": "stdout",
     "output_type": "stream",
     "text": [
      "Collecting package metadata (current_repodata.json): done\n",
      "Solving environment: \\ \n",
      "The environment is inconsistent, please check the package plan carefully\n",
      "The following packages are causing the inconsistency:\n",
      "\n",
      "  - defaults/osx-64::mkl_random==1.2.2=py38hb2f4e1b_0\n",
      "  - defaults/osx-64::bottleneck==1.3.2=py38hf1fa96c_1\n",
      "  - defaults/osx-64::scikit-learn==0.24.2=py38hb2f4e1b_0\n",
      "  - defaults/osx-64::scipy==1.7.1=py38h88652d9_2\n",
      "  - conda-forge/osx-64::opencv==4.5.3=py38h50d1736_1\n",
      "  - defaults/osx-64::pandas==1.3.3=py38h5008ddb_0\n",
      "  - conda-forge/osx-64::py-opencv==4.5.3=py38h5fd9f69_1\n",
      "  - defaults/osx-64::patsy==0.5.2=py38hecd8cb5_0\n",
      "  - defaults/osx-64::statsmodels==0.13.0=py38hca72f7f_0\n",
      "  - defaults/osx-64::matplotlib==3.4.2=py38hecd8cb5_0\n",
      "  - defaults/osx-64::numpy==1.21.2=py38h4b4dc7a_0\n",
      "  - defaults/osx-64::matplotlib-base==3.4.2=py38h8b3ea08_0\n",
      "  - defaults/osx-64::mkl_fft==1.3.1=py38h4ab4a9b_0\n",
      "  - defaults/osx-64::numexpr==2.7.3=py38h5873af2_1\n",
      "failed with initial frozen solve. Retrying with flexible solve.\n",
      "Solving environment: failed with repodata from current_repodata.json, will retry with next repodata source.\n",
      "Collecting package metadata (repodata.json): done\n",
      "Solving environment: / \n",
      "The environment is inconsistent, please check the package plan carefully\n",
      "The following packages are causing the inconsistency:\n",
      "\n",
      "  - defaults/osx-64::mkl_random==1.2.2=py38hb2f4e1b_0\n",
      "  - defaults/osx-64::bottleneck==1.3.2=py38hf1fa96c_1\n",
      "  - defaults/osx-64::scikit-learn==0.24.2=py38hb2f4e1b_0\n",
      "  - defaults/osx-64::scipy==1.7.1=py38h88652d9_2\n",
      "  - conda-forge/osx-64::opencv==4.5.3=py38h50d1736_1\n",
      "  - defaults/osx-64::pandas==1.3.3=py38h5008ddb_0\n",
      "  - conda-forge/osx-64::py-opencv==4.5.3=py38h5fd9f69_1\n",
      "  - defaults/osx-64::patsy==0.5.2=py38hecd8cb5_0\n",
      "  - defaults/osx-64::statsmodels==0.13.0=py38hca72f7f_0\n",
      "  - defaults/osx-64::matplotlib==3.4.2=py38hecd8cb5_0\n",
      "  - defaults/osx-64::numpy==1.21.2=py38h4b4dc7a_0\n",
      "  - defaults/osx-64::matplotlib-base==3.4.2=py38h8b3ea08_0\n",
      "  - defaults/osx-64::mkl_fft==1.3.1=py38h4ab4a9b_0\n",
      "  - defaults/osx-64::numexpr==2.7.3=py38h5873af2_1\n",
      "done\n",
      "\n",
      "## Package Plan ##\n",
      "\n",
      "  environment location: /opt/homebrew/Caskroom/miniconda/base\n",
      "\n",
      "  added / updated specs:\n",
      "    - tensorflow\n",
      "\n",
      "\n",
      "The following packages will be downloaded:\n",
      "\n",
      "    package                    |            build\n",
      "    ---------------------------|-----------------\n",
      "    abseil-cpp-20210324.2      |       he49afe7_0         937 KB  conda-forge\n",
      "    absl-py-0.15.0             |     pyhd8ed1ab_0          98 KB  conda-forge\n",
      "    aiohttp-3.8.1              |   py38h96a0964_0         564 KB  conda-forge\n",
      "    aiosignal-1.2.0            |     pyhd8ed1ab_0          12 KB  conda-forge\n",
      "    astunparse-1.6.3           |     pyhd8ed1ab_0          15 KB  conda-forge\n",
      "    async-timeout-4.0.1        |     pyhd8ed1ab_0           9 KB  conda-forge\n",
      "    blinker-1.4                |             py_1          13 KB  conda-forge\n",
      "    c-ares-1.18.1              |       h0d85af4_0         100 KB  conda-forge\n",
      "    cached-property-1.5.2      |       hd8ed1ab_1           4 KB  conda-forge\n",
      "    cached_property-1.5.2      |     pyha770c72_1          11 KB  conda-forge\n",
      "    cachetools-4.2.4           |     pyhd8ed1ab_0          12 KB  conda-forge\n",
      "    click-8.0.3                |   py38h50d1736_1         147 KB  conda-forge\n",
      "    dataclasses-0.8            |     pyhc8e2a94_3          10 KB  conda-forge\n",
      "    frozenlist-1.2.0           |   py38h96a0964_1          73 KB  conda-forge\n",
      "    gast-0.4.0                 |     pyh9f0ad1d_0          12 KB  conda-forge\n",
      "    google-auth-2.3.3          |     pyh6c4a22f_0          83 KB  conda-forge\n",
      "    google-auth-oauthlib-0.4.6 |     pyhd8ed1ab_0          19 KB  conda-forge\n",
      "    google-pasta-0.2.0         |     pyh8c360ce_0          42 KB  conda-forge\n",
      "    grpc-cpp-1.39.1            |       h3acd2d4_1         2.9 MB  conda-forge\n",
      "    grpcio-1.39.0              |   py38h4924b5d_0         1.9 MB  conda-forge\n",
      "    h5py-3.1.0                 |nompi_py38h5142359_100         1.0 MB  conda-forge\n",
      "    keras-2.6.0                |     pyhd8ed1ab_1         822 KB  conda-forge\n",
      "    keras-preprocessing-1.1.2  |     pyhd8ed1ab_0          34 KB  conda-forge\n",
      "    krb5-1.19.2                |       hcfbf3a7_3         1.2 MB  conda-forge\n",
      "    libcurl-7.80.0             |       hf45b732_1         317 KB  conda-forge\n",
      "    libev-4.33                 |       haf1e3a3_1          99 KB  conda-forge\n",
      "    libnghttp2-1.43.0          |       h6f36284_1         867 KB  conda-forge\n",
      "    libssh2-1.10.0             |       h52ee1ee_2         221 KB  conda-forge\n",
      "    markdown-3.3.6             |     pyhd8ed1ab_0          67 KB  conda-forge\n",
      "    multidict-5.2.0            |   py38h96a0964_1          57 KB  conda-forge\n",
      "    numpy-1.19.5               |   py38had91d27_2         5.1 MB  conda-forge\n",
      "    oauthlib-3.1.1             |     pyhd8ed1ab_0          87 KB  conda-forge\n",
      "    opt_einsum-3.3.0           |     pyhd8ed1ab_1          53 KB  conda-forge\n",
      "    protobuf-3.16.0            |   py38ha048514_0         329 KB  conda-forge\n",
      "    pyasn1-0.4.8               |             py_0          53 KB  conda-forge\n",
      "    pyasn1-modules-0.2.7       |             py_0          60 KB  conda-forge\n",
      "    pyjwt-2.3.0                |     pyhd8ed1ab_1          18 KB  conda-forge\n",
      "    python-flatbuffers-1.12    |     pyhd8ed1ab_1          19 KB  conda-forge\n",
      "    pyu2f-0.1.5                |     pyhd8ed1ab_0          31 KB  conda-forge\n",
      "    re2-2021.09.01             |       he49afe7_0         194 KB  conda-forge\n",
      "    requests-oauthlib-1.3.0    |     pyh9f0ad1d_0          21 KB  conda-forge\n",
      "    rsa-4.8                    |     pyhd8ed1ab_0          31 KB  conda-forge\n",
      "    six-1.15.0                 |     pyh9f0ad1d_0          14 KB  conda-forge\n",
      "    snappy-1.1.8               |       hb1e8313_3          29 KB  conda-forge\n",
      "    statsmodels-0.13.1         |   py38hbe852b5_0        10.7 MB  conda-forge\n",
      "    tensorboard-2.7.0          |     pyhd8ed1ab_0         5.2 MB  conda-forge\n",
      "    tensorboard-data-server-0.6.0|   py38h56c4533_1         2.4 MB  conda-forge\n",
      "    tensorboard-plugin-wit-1.8.0|     pyh44b312d_0         670 KB  conda-forge\n",
      "    tensorflow-2.6.0           |   py38h52b2510_1          24 KB  conda-forge\n",
      "    tensorflow-base-2.6.0      |   py38h1615122_1       127.0 MB  conda-forge\n",
      "    tensorflow-estimator-2.6.0 |   py38h02c4698_1         649 KB  conda-forge\n",
      "    termcolor-1.1.0            |             py_2           6 KB  conda-forge\n",
      "    typing-extensions-3.7.4.3  |                0           8 KB  conda-forge\n",
      "    typing_extensions-3.7.4.3  |             py_0          25 KB  conda-forge\n",
      "    werkzeug-2.0.1             |     pyhd8ed1ab_0         219 KB  conda-forge\n",
      "    wrapt-1.12.1               |   py38h96a0964_3          43 KB  conda-forge\n",
      "    yarl-1.7.2                 |   py38h96a0964_1         128 KB  conda-forge\n",
      "    ------------------------------------------------------------\n",
      "                                           Total:       164.6 MB\n",
      "\n",
      "The following NEW packages will be INSTALLED:\n",
      "\n",
      "  abseil-cpp         conda-forge/osx-64::abseil-cpp-20210324.2-he49afe7_0\n",
      "  absl-py            conda-forge/noarch::absl-py-0.15.0-pyhd8ed1ab_0\n",
      "  aiohttp            conda-forge/osx-64::aiohttp-3.8.1-py38h96a0964_0\n",
      "  aiosignal          conda-forge/noarch::aiosignal-1.2.0-pyhd8ed1ab_0\n",
      "  astunparse         conda-forge/noarch::astunparse-1.6.3-pyhd8ed1ab_0\n",
      "  async-timeout      conda-forge/noarch::async-timeout-4.0.1-pyhd8ed1ab_0\n",
      "  blinker            conda-forge/noarch::blinker-1.4-py_1\n",
      "  c-ares             conda-forge/osx-64::c-ares-1.18.1-h0d85af4_0\n",
      "  cached-property    conda-forge/noarch::cached-property-1.5.2-hd8ed1ab_1\n",
      "  cached_property    conda-forge/noarch::cached_property-1.5.2-pyha770c72_1\n",
      "  cachetools         conda-forge/noarch::cachetools-4.2.4-pyhd8ed1ab_0\n",
      "  click              conda-forge/osx-64::click-8.0.3-py38h50d1736_1\n",
      "  dataclasses        conda-forge/noarch::dataclasses-0.8-pyhc8e2a94_3\n",
      "  frozenlist         conda-forge/osx-64::frozenlist-1.2.0-py38h96a0964_1\n",
      "  gast               conda-forge/noarch::gast-0.4.0-pyh9f0ad1d_0\n",
      "  google-auth        conda-forge/noarch::google-auth-2.3.3-pyh6c4a22f_0\n",
      "  google-auth-oauth~ conda-forge/noarch::google-auth-oauthlib-0.4.6-pyhd8ed1ab_0\n",
      "  google-pasta       conda-forge/noarch::google-pasta-0.2.0-pyh8c360ce_0\n",
      "  grpc-cpp           conda-forge/osx-64::grpc-cpp-1.39.1-h3acd2d4_1\n",
      "  grpcio             conda-forge/osx-64::grpcio-1.39.0-py38h4924b5d_0\n",
      "  h5py               conda-forge/osx-64::h5py-3.1.0-nompi_py38h5142359_100\n",
      "  keras              conda-forge/noarch::keras-2.6.0-pyhd8ed1ab_1\n",
      "  keras-preprocessi~ conda-forge/noarch::keras-preprocessing-1.1.2-pyhd8ed1ab_0\n",
      "  krb5               conda-forge/osx-64::krb5-1.19.2-hcfbf3a7_3\n",
      "  libcurl            conda-forge/osx-64::libcurl-7.80.0-hf45b732_1\n",
      "  libedit            pkgs/main/osx-64::libedit-3.1.20210910-hca72f7f_0\n",
      "  libev              conda-forge/osx-64::libev-4.33-haf1e3a3_1\n",
      "  libnghttp2         conda-forge/osx-64::libnghttp2-1.43.0-h6f36284_1\n",
      "  libssh2            conda-forge/osx-64::libssh2-1.10.0-h52ee1ee_2\n",
      "  markdown           conda-forge/noarch::markdown-3.3.6-pyhd8ed1ab_0\n",
      "  multidict          conda-forge/osx-64::multidict-5.2.0-py38h96a0964_1\n",
      "  oauthlib           conda-forge/noarch::oauthlib-3.1.1-pyhd8ed1ab_0\n",
      "  opt_einsum         conda-forge/noarch::opt_einsum-3.3.0-pyhd8ed1ab_1\n",
      "  protobuf           conda-forge/osx-64::protobuf-3.16.0-py38ha048514_0\n",
      "  pyasn1             conda-forge/noarch::pyasn1-0.4.8-py_0\n",
      "  pyasn1-modules     conda-forge/noarch::pyasn1-modules-0.2.7-py_0\n",
      "  pyjwt              conda-forge/noarch::pyjwt-2.3.0-pyhd8ed1ab_1\n",
      "  python-flatbuffers conda-forge/noarch::python-flatbuffers-1.12-pyhd8ed1ab_1\n",
      "  pyu2f              conda-forge/noarch::pyu2f-0.1.5-pyhd8ed1ab_0\n",
      "  re2                conda-forge/osx-64::re2-2021.09.01-he49afe7_0\n",
      "  requests-oauthlib  conda-forge/noarch::requests-oauthlib-1.3.0-pyh9f0ad1d_0\n",
      "  rsa                conda-forge/noarch::rsa-4.8-pyhd8ed1ab_0\n",
      "  snappy             conda-forge/osx-64::snappy-1.1.8-hb1e8313_3\n",
      "  tensorboard        conda-forge/noarch::tensorboard-2.7.0-pyhd8ed1ab_0\n",
      "  tensorboard-data-~ conda-forge/osx-64::tensorboard-data-server-0.6.0-py38h56c4533_1\n",
      "  tensorboard-plugi~ conda-forge/noarch::tensorboard-plugin-wit-1.8.0-pyh44b312d_0\n",
      "  tensorflow         conda-forge/osx-64::tensorflow-2.6.0-py38h52b2510_1\n",
      "  tensorflow-base    conda-forge/osx-64::tensorflow-base-2.6.0-py38h1615122_1\n",
      "  tensorflow-estima~ conda-forge/osx-64::tensorflow-estimator-2.6.0-py38h02c4698_1\n",
      "  termcolor          conda-forge/noarch::termcolor-1.1.0-py_2\n",
      "  typing-extensions  conda-forge/noarch::typing-extensions-3.7.4.3-0\n",
      "  typing_extensions  conda-forge/noarch::typing_extensions-3.7.4.3-py_0\n",
      "  werkzeug           conda-forge/noarch::werkzeug-2.0.1-pyhd8ed1ab_0\n",
      "  wrapt              conda-forge/osx-64::wrapt-1.12.1-py38h96a0964_3\n",
      "  yarl               conda-forge/osx-64::yarl-1.7.2-py38h96a0964_1\n",
      "\n",
      "The following packages will be UPDATED:\n",
      "\n",
      "  certifi            pkgs/main::certifi-2021.10.8-py38hecd~ --> conda-forge::certifi-2021.10.8-py38h50d1736_1\n",
      "  statsmodels        pkgs/main::statsmodels-0.13.0-py38hca~ --> conda-forge::statsmodels-0.13.1-py38hbe852b5_0\n",
      "\n",
      "The following packages will be SUPERSEDED by a higher-priority channel:\n",
      "\n",
      "  ca-certificates    pkgs/main::ca-certificates-2021.10.26~ --> conda-forge::ca-certificates-2021.10.8-h033912b_0\n",
      "  conda              pkgs/main::conda-4.11.0-py38hecd8cb5_0 --> conda-forge::conda-4.11.0-py38h50d1736_0\n",
      "  numpy              pkgs/main::numpy-1.21.2-py38h4b4dc7a_0 --> conda-forge::numpy-1.19.5-py38had91d27_2\n",
      "  openssl              pkgs/main::openssl-1.1.1l-h9ed2024_0 --> conda-forge::openssl-1.1.1l-h0d85af4_0\n",
      "  six                    pkgs/main::six-1.16.0-pyhd3eb1b0_0 --> conda-forge::six-1.15.0-pyh9f0ad1d_0\n",
      "\n",
      "\n",
      "\n",
      "Downloading and Extracting Packages\n"
     ]
    },
    {
     "name": "stdout",
     "output_type": "stream",
     "text": [
      "google-auth-2.3.3    | 83 KB     | ##################################### | 100% \n",
      "aiohttp-3.8.1        | 564 KB    | ##################################### | 100% \n",
      "aiosignal-1.2.0      | 12 KB     | ##################################### | 100% \n",
      "absl-py-0.15.0       | 98 KB     | ##################################### | 100% \n",
      "keras-2.6.0          | 822 KB    | ##################################### | 100% \n",
      "tensorboard-2.7.0    | 5.2 MB    | ##################################### | 100% \n",
      "multidict-5.2.0      | 57 KB     | ##################################### | 100% \n",
      "blinker-1.4          | 13 KB     | ##################################### | 100% \n",
      "six-1.15.0           | 14 KB     | ##################################### | 100% \n",
      "markdown-3.3.6       | 67 KB     | ##################################### | 100% \n",
      "keras-preprocessing- | 34 KB     | ##################################### | 100% \n",
      "statsmodels-0.13.1   | 10.7 MB   | ##################################### | 100% \n",
      "google-auth-oauthlib | 19 KB     | ##################################### | 100% \n",
      "grpcio-1.39.0        | 1.9 MB    | ##################################### | 100% \n",
      "tensorflow-estimator | 649 KB    | ##################################### | 100% \n",
      "c-ares-1.18.1        | 100 KB    | ##################################### | 100% \n",
      "click-8.0.3          | 147 KB    | ##################################### | 100% \n",
      "cached-property-1.5. | 4 KB      | ##################################### | 100% \n",
      "rsa-4.8              | 31 KB     | ##################################### | 100% \n",
      "pyu2f-0.1.5          | 31 KB     | ##################################### | 100% \n",
      "tensorboard-plugin-w | 670 KB    | ##################################### | 100% \n",
      "termcolor-1.1.0      | 6 KB      | ##################################### | 100% \n",
      "pyjwt-2.3.0          | 18 KB     | ##################################### | 100% \n",
      "gast-0.4.0           | 12 KB     | ##################################### | 100% \n",
      "re2-2021.09.01       | 194 KB    | ##################################### | 100% \n",
      "pyasn1-0.4.8         | 53 KB     | ##################################### | 100% \n",
      "typing_extensions-3. | 25 KB     | ##################################### | 100% \n",
      "tensorflow-base-2.6. | 127.0 MB  | ##################################### | 100% \n",
      "requests-oauthlib-1. | 21 KB     | ##################################### | 100% \n",
      "typing-extensions-3. | 8 KB      | ##################################### | 100% \n",
      "cachetools-4.2.4     | 12 KB     | ##################################### | 100% \n",
      "h5py-3.1.0           | 1.0 MB    | ##################################### | 100% \n",
      "libnghttp2-1.43.0    | 867 KB    | ##################################### | 100% \n",
      "numpy-1.19.5         | 5.1 MB    | ##################################### | 100% \n",
      "astunparse-1.6.3     | 15 KB     | ##################################### | 100% \n",
      "abseil-cpp-20210324. | 937 KB    | ##################################### | 100% \n",
      "tensorflow-2.6.0     | 24 KB     | ##################################### | 100% \n",
      "libcurl-7.80.0       | 317 KB    | ##################################### | 100% \n",
      "dataclasses-0.8      | 10 KB     | ##################################### | 100% \n",
      "cached_property-1.5. | 11 KB     | ##################################### | 100% \n",
      "google-pasta-0.2.0   | 42 KB     | ##################################### | 100% \n",
      "yarl-1.7.2           | 128 KB    | ##################################### | 100% \n",
      "protobuf-3.16.0      | 329 KB    | ##################################### | 100% \n",
      "async-timeout-4.0.1  | 9 KB      | ##################################### | 100% \n",
      "pyasn1-modules-0.2.7 | 60 KB     | ##################################### | 100% \n",
      "libev-4.33           | 99 KB     | ##################################### | 100% \n",
      "snappy-1.1.8         | 29 KB     | ##################################### | 100% \n",
      "libssh2-1.10.0       | 221 KB    | ##################################### | 100% \n",
      "tensorboard-data-ser | 2.4 MB    | ##################################### | 100% \n",
      "krb5-1.19.2          | 1.2 MB    | ##################################### | 100% \n",
      "werkzeug-2.0.1       | 219 KB    | ##################################### | 100% \n",
      "opt_einsum-3.3.0     | 53 KB     | ##################################### | 100% \n",
      "oauthlib-3.1.1       | 87 KB     | ##################################### | 100% \n",
      "frozenlist-1.2.0     | 73 KB     | ##################################### | 100% \n",
      "grpc-cpp-1.39.1      | 2.9 MB    | ##################################### | 100% \n",
      "python-flatbuffers-1 | 19 KB     | ##################################### | 100% \n",
      "wrapt-1.12.1         | 43 KB     | ##################################### | 100% \n",
      "Preparing transaction: done\n",
      "Verifying transaction: done\n",
      "Executing transaction: done\n",
      "\n",
      "Note: you may need to restart the kernel to use updated packages.\n"
     ]
    }
   ],
   "source": [
    "conda install -c conda-forge tensorflow"
   ]
  },
  {
   "cell_type": "code",
   "execution_count": 8,
   "id": "f0b86f64",
   "metadata": {},
   "outputs": [],
   "source": [
    "import tensorflow"
   ]
  },
  {
   "cell_type": "code",
   "execution_count": 4,
   "id": "f3c65669",
   "metadata": {},
   "outputs": [],
   "source": [
    "from matplotlib import pyplot\n",
    "from matplotlib.patches import Rectangle\n",
    "from mtcnn.mtcnn import MTCNN\n",
    "from PIL import Image"
   ]
  },
  {
   "cell_type": "code",
   "execution_count": 11,
   "id": "f6591b86",
   "metadata": {},
   "outputs": [],
   "source": [
    "filename = 'train/real/00001.jpg'"
   ]
  },
  {
   "cell_type": "code",
   "execution_count": 14,
   "id": "82424dc6",
   "metadata": {},
   "outputs": [],
   "source": [
    "def draw_image_with_boxes(filename, result_list):\n",
    "    # load the image\n",
    "    data = pyplot.imread(filename)\n",
    "    # plot the image\n",
    "    pyplot.imshow(data)\n",
    "    # get the context for drawing boxes\n",
    "    ax = pyplot.gca()\n",
    "    # plot each box\n",
    "    for result in result_list:\n",
    "        # get coordinates\n",
    "        x, y, width, height = result['box']\n",
    "        # create the shape\n",
    "        rect = Rectangle((x, y), width, height, fill=False, color='red')\n",
    "        # draw the box\n",
    "        ax.add_patch(rect)\n",
    "    pyplot.show()\n",
    "    return(x,y,x+width,y+height)"
   ]
  },
  {
   "cell_type": "code",
   "execution_count": 6,
   "id": "341d7b20",
   "metadata": {},
   "outputs": [
    {
     "ename": "NameError",
     "evalue": "name 'filename' is not defined",
     "output_type": "error",
     "traceback": [
      "\u001b[0;31m---------------------------------------------------------------------------\u001b[0m",
      "\u001b[0;31mNameError\u001b[0m                                 Traceback (most recent call last)",
      "\u001b[0;32m/var/folders/3r/pzbthm6968d8nwckjrntvplh0000gn/T/ipykernel_3137/2359946263.py\u001b[0m in \u001b[0;36m<module>\u001b[0;34m\u001b[0m\n\u001b[1;32m      1\u001b[0m \u001b[0mdetector\u001b[0m \u001b[0;34m=\u001b[0m \u001b[0mMTCNN\u001b[0m\u001b[0;34m(\u001b[0m\u001b[0;34m)\u001b[0m\u001b[0;34m\u001b[0m\u001b[0;34m\u001b[0m\u001b[0m\n\u001b[1;32m      2\u001b[0m \u001b[0;31m# detect faces in the image\u001b[0m\u001b[0;34m\u001b[0m\u001b[0;34m\u001b[0m\u001b[0;34m\u001b[0m\u001b[0m\n\u001b[0;32m----> 3\u001b[0;31m \u001b[0mpixels\u001b[0m \u001b[0;34m=\u001b[0m \u001b[0mpyplot\u001b[0m\u001b[0;34m.\u001b[0m\u001b[0mimread\u001b[0m\u001b[0;34m(\u001b[0m\u001b[0mfilename\u001b[0m\u001b[0;34m)\u001b[0m\u001b[0;34m\u001b[0m\u001b[0;34m\u001b[0m\u001b[0m\n\u001b[0m\u001b[1;32m      4\u001b[0m \u001b[0mfaces\u001b[0m \u001b[0;34m=\u001b[0m \u001b[0mdetector\u001b[0m\u001b[0;34m.\u001b[0m\u001b[0mdetect_faces\u001b[0m\u001b[0;34m(\u001b[0m\u001b[0mpixels\u001b[0m\u001b[0;34m)\u001b[0m\u001b[0;34m\u001b[0m\u001b[0;34m\u001b[0m\u001b[0m\n\u001b[1;32m      5\u001b[0m \u001b[0;31m# display faces on the original image\u001b[0m\u001b[0;34m\u001b[0m\u001b[0;34m\u001b[0m\u001b[0;34m\u001b[0m\u001b[0m\n",
      "\u001b[0;31mNameError\u001b[0m: name 'filename' is not defined"
     ]
    }
   ],
   "source": [
    "detector = MTCNN()\n",
    "# detect faces in the image\n",
    "pixels = pyplot.imread(filename)\n",
    "faces = detector.detect_faces(pixels)\n",
    "# display faces on the original image\n",
    "draw_image_with_boxes(filename, faces)"
   ]
  },
  {
   "cell_type": "code",
   "execution_count": 7,
   "id": "2c5a8ad1",
   "metadata": {},
   "outputs": [
    {
     "name": "stdout",
     "output_type": "stream",
     "text": [
      "Requirement already satisfied: keras in /opt/homebrew/Caskroom/miniconda/base/lib/python3.8/site-packages (2.7.0)\n",
      "Note: you may need to restart the kernel to use updated packages.\n"
     ]
    }
   ],
   "source": [
    "pip install keras"
   ]
  },
  {
   "cell_type": "code",
   "execution_count": 8,
   "id": "cd23e29f",
   "metadata": {},
   "outputs": [],
   "source": [
    "from keras.models import Sequential \n",
    "from keras.layers import Conv2D,MaxPool2D,Flatten,Dense,Dropout\n",
    "from keras.preprocessing.image import ImageDataGenerator\n",
    "from tensorflow.keras.optimizers import Adam \n",
    "from tensorflow.keras.utils import to_categorical\n",
    "from keras.applications.inception_v3 import InceptionV3, preprocess_input\n"
   ]
  },
  {
   "cell_type": "code",
   "execution_count": 6,
   "id": "40360698",
   "metadata": {},
   "outputs": [
    {
     "name": "stderr",
     "output_type": "stream",
     "text": [
      "2021-12-15 16:17:39.976286: I tensorflow/core/platform/cpu_feature_guard.cc:142] This TensorFlow binary is optimized with oneAPI Deep Neural Network Library (oneDNN) to use the following CPU instructions in performance-critical operations:  SSE4.1 SSE4.2\n",
      "To enable them in other operations, rebuild TensorFlow with the appropriate compiler flags.\n"
     ]
    },
    {
     "ename": "NameError",
     "evalue": "name 'Conv2D' is not defined",
     "output_type": "error",
     "traceback": [
      "\u001b[0;31m---------------------------------------------------------------------------\u001b[0m",
      "\u001b[0;31mNameError\u001b[0m                                 Traceback (most recent call last)",
      "\u001b[0;32m/var/folders/3r/pzbthm6968d8nwckjrntvplh0000gn/T/ipykernel_3274/3539597567.py\u001b[0m in \u001b[0;36m<module>\u001b[0;34m\u001b[0m\n\u001b[1;32m      2\u001b[0m \u001b[0mmodel\u001b[0m \u001b[0;34m=\u001b[0m \u001b[0mSequential\u001b[0m\u001b[0;34m(\u001b[0m\u001b[0;34m)\u001b[0m\u001b[0;34m\u001b[0m\u001b[0;34m\u001b[0m\u001b[0m\n\u001b[1;32m      3\u001b[0m \u001b[0;34m\u001b[0m\u001b[0m\n\u001b[0;32m----> 4\u001b[0;31m \u001b[0mmodel\u001b[0m\u001b[0;34m.\u001b[0m\u001b[0madd\u001b[0m\u001b[0;34m(\u001b[0m\u001b[0mConv2D\u001b[0m\u001b[0;34m(\u001b[0m\u001b[0;36m32\u001b[0m\u001b[0;34m,\u001b[0m\u001b[0;34m(\u001b[0m\u001b[0;36m3\u001b[0m\u001b[0;34m,\u001b[0m\u001b[0;36m3\u001b[0m\u001b[0;34m)\u001b[0m\u001b[0;34m,\u001b[0m\u001b[0minput_shape\u001b[0m \u001b[0;34m=\u001b[0m \u001b[0;34m(\u001b[0m\u001b[0;36m200\u001b[0m\u001b[0;34m,\u001b[0m\u001b[0;36m200\u001b[0m\u001b[0;34m,\u001b[0m\u001b[0;36m3\u001b[0m\u001b[0;34m)\u001b[0m\u001b[0;34m,\u001b[0m\u001b[0mactivation\u001b[0m \u001b[0;34m=\u001b[0m \u001b[0;34m'relu'\u001b[0m\u001b[0;34m,\u001b[0m\u001b[0mpadding\u001b[0m\u001b[0;34m=\u001b[0m\u001b[0;34m'same'\u001b[0m\u001b[0;34m,\u001b[0m\u001b[0;34m)\u001b[0m\u001b[0;34m)\u001b[0m\u001b[0;34m\u001b[0m\u001b[0;34m\u001b[0m\u001b[0m\n\u001b[0m\u001b[1;32m      5\u001b[0m \u001b[0mmodel\u001b[0m\u001b[0;34m.\u001b[0m\u001b[0madd\u001b[0m\u001b[0;34m(\u001b[0m\u001b[0mMaxPool2D\u001b[0m\u001b[0;34m(\u001b[0m\u001b[0mpool_size\u001b[0m\u001b[0;34m=\u001b[0m\u001b[0;34m(\u001b[0m\u001b[0;36m2\u001b[0m\u001b[0;34m,\u001b[0m\u001b[0;36m2\u001b[0m\u001b[0;34m)\u001b[0m\u001b[0;34m)\u001b[0m\u001b[0;34m)\u001b[0m\u001b[0;34m\u001b[0m\u001b[0;34m\u001b[0m\u001b[0m\n\u001b[1;32m      6\u001b[0m \u001b[0mmodel\u001b[0m\u001b[0;34m.\u001b[0m\u001b[0madd\u001b[0m\u001b[0;34m(\u001b[0m\u001b[0mDropout\u001b[0m\u001b[0;34m(\u001b[0m\u001b[0;36m0.2\u001b[0m\u001b[0;34m)\u001b[0m\u001b[0;34m)\u001b[0m\u001b[0;34m\u001b[0m\u001b[0;34m\u001b[0m\u001b[0m\n",
      "\u001b[0;31mNameError\u001b[0m: name 'Conv2D' is not defined"
     ]
    }
   ],
   "source": [
    "from keras.models import Sequential \n",
    "model = Sequential()\n",
    "\n",
    "model.add(Conv2D(32,(3,3),input_shape = (200,200,3),activation = 'relu',padding='same',))\n",
    "model.add(MaxPool2D(pool_size=(2,2)))\n",
    "model.add(Dropout(0.2))\n",
    "\n",
    "model.add(Conv2D(64, (3, 3), activation='relu', padding='same'))\n",
    "model.add(MaxPool2D((2, 2)))\n",
    "model.add(Dropout(0.2))\n",
    "\n",
    "model.add(Conv2D(128, (3, 3), activation='relu', padding='same'))\n",
    "model.add(MaxPool2D((2, 2)))\n",
    "model.add(Dropout(0.2))\n",
    "\n",
    "model.add(Flatten())\n",
    "\n",
    "model.add(Dense(128, activation='relu'))\n",
    "model.add(Dropout(0.5))\n",
    "model.add(Dense(1, activation='sigmoid'))\n",
    "\n",
    "model.compile(optimizer = 'adam',loss = 'binary_crossentropy',metrics = ['accuracy'])"
   ]
  },
  {
   "cell_type": "code",
   "execution_count": 7,
   "id": "de5cb8c0",
   "metadata": {},
   "outputs": [
    {
     "name": "stdout",
     "output_type": "stream",
     "text": [
      "Found 18000 images belonging to 2 classes.\n"
     ]
    },
    {
     "name": "stderr",
     "output_type": "stream",
     "text": [
      "/opt/homebrew/Caskroom/miniconda/base/lib/python3.8/site-packages/keras/engine/training.py:1972: UserWarning: `Model.fit_generator` is deprecated and will be removed in a future version. Please use `Model.fit`, which supports generators.\n",
      "  warnings.warn('`Model.fit_generator` is deprecated and '\n"
     ]
    },
    {
     "ename": "RuntimeError",
     "evalue": "You must compile your model before training/testing. Use `model.compile(optimizer, loss)`.",
     "output_type": "error",
     "traceback": [
      "\u001b[0;31m---------------------------------------------------------------------------\u001b[0m",
      "\u001b[0;31mRuntimeError\u001b[0m                              Traceback (most recent call last)",
      "\u001b[0;32m/var/folders/3r/pzbthm6968d8nwckjrntvplh0000gn/T/ipykernel_3274/2684117725.py\u001b[0m in \u001b[0;36m<module>\u001b[0;34m\u001b[0m\n\u001b[1;32m     12\u001b[0m                                                \u001b[0mtarget_size\u001b[0m \u001b[0;34m=\u001b[0m \u001b[0;34m(\u001b[0m\u001b[0;36m256\u001b[0m\u001b[0;34m,\u001b[0m\u001b[0;36m256\u001b[0m\u001b[0;34m)\u001b[0m\u001b[0;34m,\u001b[0m\u001b[0;34m\u001b[0m\u001b[0;34m\u001b[0m\u001b[0m\n\u001b[1;32m     13\u001b[0m                                                batch_size= 36)\n\u001b[0;32m---> 14\u001b[0;31m history = model.fit_generator(train_data,\n\u001b[0m\u001b[1;32m     15\u001b[0m                           \u001b[0msteps_per_epoch\u001b[0m \u001b[0;34m=\u001b[0m \u001b[0;36m10\u001b[0m\u001b[0;34m,\u001b[0m\u001b[0;34m\u001b[0m\u001b[0;34m\u001b[0m\u001b[0m\n\u001b[1;32m     16\u001b[0m                           epochs = 30)\n",
      "\u001b[0;32m/opt/homebrew/Caskroom/miniconda/base/lib/python3.8/site-packages/keras/engine/training.py\u001b[0m in \u001b[0;36mfit_generator\u001b[0;34m(self, generator, steps_per_epoch, epochs, verbose, callbacks, validation_data, validation_steps, validation_freq, class_weight, max_queue_size, workers, use_multiprocessing, shuffle, initial_epoch)\u001b[0m\n\u001b[1;32m   1973\u001b[0m                   \u001b[0;34m'will be removed in a future version. '\u001b[0m\u001b[0;34m\u001b[0m\u001b[0;34m\u001b[0m\u001b[0m\n\u001b[1;32m   1974\u001b[0m                   'Please use `Model.fit`, which supports generators.')\n\u001b[0;32m-> 1975\u001b[0;31m     return self.fit(\n\u001b[0m\u001b[1;32m   1976\u001b[0m         \u001b[0mgenerator\u001b[0m\u001b[0;34m,\u001b[0m\u001b[0;34m\u001b[0m\u001b[0;34m\u001b[0m\u001b[0m\n\u001b[1;32m   1977\u001b[0m         \u001b[0msteps_per_epoch\u001b[0m\u001b[0;34m=\u001b[0m\u001b[0msteps_per_epoch\u001b[0m\u001b[0;34m,\u001b[0m\u001b[0;34m\u001b[0m\u001b[0;34m\u001b[0m\u001b[0m\n",
      "\u001b[0;32m/opt/homebrew/Caskroom/miniconda/base/lib/python3.8/site-packages/keras/engine/training.py\u001b[0m in \u001b[0;36mfit\u001b[0;34m(self, x, y, batch_size, epochs, verbose, callbacks, validation_split, validation_data, shuffle, class_weight, sample_weight, initial_epoch, steps_per_epoch, validation_steps, validation_batch_size, validation_freq, max_queue_size, workers, use_multiprocessing)\u001b[0m\n\u001b[1;32m   1104\u001b[0m     \u001b[0;31m# Legacy graph support is contained in `training_v1.Model`.\u001b[0m\u001b[0;34m\u001b[0m\u001b[0;34m\u001b[0m\u001b[0;34m\u001b[0m\u001b[0m\n\u001b[1;32m   1105\u001b[0m     \u001b[0mversion_utils\u001b[0m\u001b[0;34m.\u001b[0m\u001b[0mdisallow_legacy_graph\u001b[0m\u001b[0;34m(\u001b[0m\u001b[0;34m'Model'\u001b[0m\u001b[0;34m,\u001b[0m \u001b[0;34m'fit'\u001b[0m\u001b[0;34m)\u001b[0m\u001b[0;34m\u001b[0m\u001b[0;34m\u001b[0m\u001b[0m\n\u001b[0;32m-> 1106\u001b[0;31m     \u001b[0mself\u001b[0m\u001b[0;34m.\u001b[0m\u001b[0m_assert_compile_was_called\u001b[0m\u001b[0;34m(\u001b[0m\u001b[0;34m)\u001b[0m\u001b[0;34m\u001b[0m\u001b[0;34m\u001b[0m\u001b[0m\n\u001b[0m\u001b[1;32m   1107\u001b[0m     \u001b[0mself\u001b[0m\u001b[0;34m.\u001b[0m\u001b[0m_check_call_args\u001b[0m\u001b[0;34m(\u001b[0m\u001b[0;34m'fit'\u001b[0m\u001b[0;34m)\u001b[0m\u001b[0;34m\u001b[0m\u001b[0;34m\u001b[0m\u001b[0m\n\u001b[1;32m   1108\u001b[0m     \u001b[0m_disallow_inside_tf_function\u001b[0m\u001b[0;34m(\u001b[0m\u001b[0;34m'fit'\u001b[0m\u001b[0;34m)\u001b[0m\u001b[0;34m\u001b[0m\u001b[0;34m\u001b[0m\u001b[0m\n",
      "\u001b[0;32m/opt/homebrew/Caskroom/miniconda/base/lib/python3.8/site-packages/keras/engine/training.py\u001b[0m in \u001b[0;36m_assert_compile_was_called\u001b[0;34m(self)\u001b[0m\n\u001b[1;32m   2788\u001b[0m     \u001b[0;31m# (i.e. whether the model is built and its inputs/outputs are set).\u001b[0m\u001b[0;34m\u001b[0m\u001b[0;34m\u001b[0m\u001b[0;34m\u001b[0m\u001b[0m\n\u001b[1;32m   2789\u001b[0m     \u001b[0;32mif\u001b[0m \u001b[0;32mnot\u001b[0m \u001b[0mself\u001b[0m\u001b[0;34m.\u001b[0m\u001b[0m_is_compiled\u001b[0m\u001b[0;34m:\u001b[0m\u001b[0;34m\u001b[0m\u001b[0;34m\u001b[0m\u001b[0m\n\u001b[0;32m-> 2790\u001b[0;31m       raise RuntimeError('You must compile your model before '\n\u001b[0m\u001b[1;32m   2791\u001b[0m                          \u001b[0;34m'training/testing. '\u001b[0m\u001b[0;34m\u001b[0m\u001b[0;34m\u001b[0m\u001b[0m\n\u001b[1;32m   2792\u001b[0m                          'Use `model.compile(optimizer, loss)`.')\n",
      "\u001b[0;31mRuntimeError\u001b[0m: You must compile your model before training/testing. Use `model.compile(optimizer, loss)`."
     ]
    }
   ],
   "source": [
    "from keras.preprocessing.image import ImageDataGenerator\n",
    "from keras.applications.inception_v3 import InceptionV3, preprocess_input\n",
    "train_datagen = ImageDataGenerator(featurewise_center=True, \n",
    "                                   rotation_range=0.4, \n",
    "                                   width_shift_range=0.3, \n",
    "                                   horizontal_flip=True, \n",
    "                                   preprocessing_function = preprocess_input,\n",
    "                                   zoom_range = 0.4, \n",
    "                                   shear_range = 0.4)\n",
    "\n",
    "train_data = train_datagen.flow_from_directory(directory = \"./train\", \n",
    "                                               target_size = (256,256), \n",
    "                                               batch_size= 36)\n",
    "history = model.fit_generator(train_data,\n",
    "                          steps_per_epoch = 10,\n",
    "                          epochs = 30)"
   ]
  },
  {
   "cell_type": "code",
   "execution_count": 9,
   "id": "25ecb63d",
   "metadata": {},
   "outputs": [
    {
     "ename": "ValueError",
     "evalue": "Weights for model sequential have not yet been created. Weights are created when the Model is first called on inputs or `build()` is called with an `input_shape`.",
     "output_type": "error",
     "traceback": [
      "\u001b[0;31m---------------------------------------------------------------------------\u001b[0m",
      "\u001b[0;31mValueError\u001b[0m                                Traceback (most recent call last)",
      "\u001b[0;32m/var/folders/3r/pzbthm6968d8nwckjrntvplh0000gn/T/ipykernel_3274/2826345321.py\u001b[0m in \u001b[0;36m<module>\u001b[0;34m\u001b[0m\n\u001b[1;32m      4\u001b[0m     \u001b[0mjson_file\u001b[0m\u001b[0;34m.\u001b[0m\u001b[0mwrite\u001b[0m\u001b[0;34m(\u001b[0m\u001b[0mmodel_json\u001b[0m\u001b[0;34m)\u001b[0m\u001b[0;34m\u001b[0m\u001b[0;34m\u001b[0m\u001b[0m\n\u001b[1;32m      5\u001b[0m \u001b[0;34m\u001b[0m\u001b[0m\n\u001b[0;32m----> 6\u001b[0;31m \u001b[0mmodel\u001b[0m\u001b[0;34m.\u001b[0m\u001b[0msave_weights\u001b[0m\u001b[0;34m(\u001b[0m\u001b[0;34m'model.h5'\u001b[0m\u001b[0;34m)\u001b[0m\u001b[0;34m\u001b[0m\u001b[0;34m\u001b[0m\u001b[0m\n\u001b[0m",
      "\u001b[0;32m/opt/homebrew/Caskroom/miniconda/base/lib/python3.8/site-packages/keras/engine/training.py\u001b[0m in \u001b[0;36msave_weights\u001b[0;34m(self, filepath, overwrite, save_format, options)\u001b[0m\n\u001b[1;32m   2211\u001b[0m         \u001b[0mValueError\u001b[0m\u001b[0;34m:\u001b[0m \u001b[0mFor\u001b[0m \u001b[0minvalid\u001b[0m\u001b[0;34m/\u001b[0m\u001b[0munknown\u001b[0m \u001b[0mformat\u001b[0m \u001b[0marguments\u001b[0m\u001b[0;34m.\u001b[0m\u001b[0;34m\u001b[0m\u001b[0;34m\u001b[0m\u001b[0m\n\u001b[1;32m   2212\u001b[0m     \"\"\"\n\u001b[0;32m-> 2213\u001b[0;31m     \u001b[0mself\u001b[0m\u001b[0;34m.\u001b[0m\u001b[0m_assert_weights_created\u001b[0m\u001b[0;34m(\u001b[0m\u001b[0;34m)\u001b[0m\u001b[0;34m\u001b[0m\u001b[0;34m\u001b[0m\u001b[0m\n\u001b[0m\u001b[1;32m   2214\u001b[0m     \u001b[0mfilepath\u001b[0m \u001b[0;34m=\u001b[0m \u001b[0mpath_to_string\u001b[0m\u001b[0;34m(\u001b[0m\u001b[0mfilepath\u001b[0m\u001b[0;34m)\u001b[0m\u001b[0;34m\u001b[0m\u001b[0;34m\u001b[0m\u001b[0m\n\u001b[1;32m   2215\u001b[0m     \u001b[0mfilepath_is_h5\u001b[0m \u001b[0;34m=\u001b[0m \u001b[0msaving_utils\u001b[0m\u001b[0;34m.\u001b[0m\u001b[0mis_hdf5_filepath\u001b[0m\u001b[0;34m(\u001b[0m\u001b[0mfilepath\u001b[0m\u001b[0;34m)\u001b[0m\u001b[0;34m\u001b[0m\u001b[0;34m\u001b[0m\u001b[0m\n",
      "\u001b[0;32m/opt/homebrew/Caskroom/miniconda/base/lib/python3.8/site-packages/keras/engine/sequential.py\u001b[0m in \u001b[0;36m_assert_weights_created\u001b[0;34m(self)\u001b[0m\n\u001b[1;32m    465\u001b[0m     \u001b[0;31m# When the graph has not been initialized, use the Model's implementation to\u001b[0m\u001b[0;34m\u001b[0m\u001b[0;34m\u001b[0m\u001b[0;34m\u001b[0m\u001b[0m\n\u001b[1;32m    466\u001b[0m     \u001b[0;31m# to check if the weights has been created.\u001b[0m\u001b[0;34m\u001b[0m\u001b[0;34m\u001b[0m\u001b[0;34m\u001b[0m\u001b[0m\n\u001b[0;32m--> 467\u001b[0;31m     \u001b[0msuper\u001b[0m\u001b[0;34m(\u001b[0m\u001b[0mfunctional\u001b[0m\u001b[0;34m.\u001b[0m\u001b[0mFunctional\u001b[0m\u001b[0;34m,\u001b[0m \u001b[0mself\u001b[0m\u001b[0;34m)\u001b[0m\u001b[0;34m.\u001b[0m\u001b[0m_assert_weights_created\u001b[0m\u001b[0;34m(\u001b[0m\u001b[0;34m)\u001b[0m  \u001b[0;31m# pylint: disable=bad-super-call\u001b[0m\u001b[0;34m\u001b[0m\u001b[0;34m\u001b[0m\u001b[0m\n\u001b[0m\u001b[1;32m    468\u001b[0m \u001b[0;34m\u001b[0m\u001b[0m\n\u001b[1;32m    469\u001b[0m \u001b[0;34m\u001b[0m\u001b[0m\n",
      "\u001b[0;32m/opt/homebrew/Caskroom/miniconda/base/lib/python3.8/site-packages/keras/engine/training.py\u001b[0m in \u001b[0;36m_assert_weights_created\u001b[0;34m(self)\u001b[0m\n\u001b[1;32m   2669\u001b[0m       \u001b[0;31m# been invoked yet, this will cover both sequential and subclass model.\u001b[0m\u001b[0;34m\u001b[0m\u001b[0;34m\u001b[0m\u001b[0;34m\u001b[0m\u001b[0m\n\u001b[1;32m   2670\u001b[0m       \u001b[0;31m# Also make sure to exclude Model class itself which has build() defined.\u001b[0m\u001b[0;34m\u001b[0m\u001b[0;34m\u001b[0m\u001b[0;34m\u001b[0m\u001b[0m\n\u001b[0;32m-> 2671\u001b[0;31m       raise ValueError('Weights for model %s have not yet been created. '\n\u001b[0m\u001b[1;32m   2672\u001b[0m                        \u001b[0;34m'Weights are created when the Model is first called on '\u001b[0m\u001b[0;34m\u001b[0m\u001b[0;34m\u001b[0m\u001b[0m\n\u001b[1;32m   2673\u001b[0m                        \u001b[0;34m'inputs or `build()` is called with an `input_shape`.'\u001b[0m \u001b[0;34m%\u001b[0m\u001b[0;34m\u001b[0m\u001b[0;34m\u001b[0m\u001b[0m\n",
      "\u001b[0;31mValueError\u001b[0m: Weights for model sequential have not yet been created. Weights are created when the Model is first called on inputs or `build()` is called with an `input_shape`."
     ]
    }
   ],
   "source": [
    "\n",
    "model_json = model.to_json()\n",
    "\n",
    "with open('model.json','w') as json_file:\n",
    "    json_file.write(model_json)\n",
    "\n",
    "model.save_weights('model.h5')"
   ]
  },
  {
   "cell_type": "code",
   "execution_count": 10,
   "id": "a570749c",
   "metadata": {},
   "outputs": [
    {
     "ename": "ValueError",
     "evalue": "Unable to load weights saved in HDF5 format into a subclassed Model which has not created its variables yet. Call the Model first, then load the weights.",
     "output_type": "error",
     "traceback": [
      "\u001b[0;31m---------------------------------------------------------------------------\u001b[0m",
      "\u001b[0;31mValueError\u001b[0m                                Traceback (most recent call last)",
      "\u001b[0;32m/var/folders/3r/pzbthm6968d8nwckjrntvplh0000gn/T/ipykernel_3274/2507297457.py\u001b[0m in \u001b[0;36m<module>\u001b[0;34m\u001b[0m\n\u001b[1;32m     10\u001b[0m \u001b[0;34m\u001b[0m\u001b[0m\n\u001b[1;32m     11\u001b[0m \u001b[0mload_model\u001b[0m \u001b[0;34m=\u001b[0m \u001b[0mmodel_from_json\u001b[0m\u001b[0;34m(\u001b[0m\u001b[0mloaded_model\u001b[0m\u001b[0;34m)\u001b[0m\u001b[0;34m\u001b[0m\u001b[0;34m\u001b[0m\u001b[0m\n\u001b[0;32m---> 12\u001b[0;31m \u001b[0mload_model\u001b[0m\u001b[0;34m.\u001b[0m\u001b[0mload_weights\u001b[0m\u001b[0;34m(\u001b[0m\u001b[0;34m'model.h5'\u001b[0m\u001b[0;34m)\u001b[0m\u001b[0;34m\u001b[0m\u001b[0;34m\u001b[0m\u001b[0m\n\u001b[0m\u001b[1;32m     13\u001b[0m \u001b[0;34m\u001b[0m\u001b[0m\n\u001b[1;32m     14\u001b[0m \u001b[0;31m# Load Image\u001b[0m\u001b[0;34m\u001b[0m\u001b[0;34m\u001b[0m\u001b[0;34m\u001b[0m\u001b[0m\n",
      "\u001b[0;32m/opt/homebrew/Caskroom/miniconda/base/lib/python3.8/site-packages/keras/engine/training.py\u001b[0m in \u001b[0;36mload_weights\u001b[0;34m(self, filepath, by_name, skip_mismatch, options)\u001b[0m\n\u001b[1;32m   2347\u001b[0m             '`load_weights` requires h5py when loading weights from HDF5.')\n\u001b[1;32m   2348\u001b[0m       \u001b[0;32mif\u001b[0m \u001b[0;32mnot\u001b[0m \u001b[0mself\u001b[0m\u001b[0;34m.\u001b[0m\u001b[0m_is_graph_network\u001b[0m \u001b[0;32mand\u001b[0m \u001b[0;32mnot\u001b[0m \u001b[0mself\u001b[0m\u001b[0;34m.\u001b[0m\u001b[0mbuilt\u001b[0m\u001b[0;34m:\u001b[0m\u001b[0;34m\u001b[0m\u001b[0;34m\u001b[0m\u001b[0m\n\u001b[0;32m-> 2349\u001b[0;31m         raise ValueError(\n\u001b[0m\u001b[1;32m   2350\u001b[0m             \u001b[0;34m'Unable to load weights saved in HDF5 format into a subclassed '\u001b[0m\u001b[0;34m\u001b[0m\u001b[0;34m\u001b[0m\u001b[0m\n\u001b[1;32m   2351\u001b[0m             \u001b[0;34m'Model which has not created its variables yet. Call the Model '\u001b[0m\u001b[0;34m\u001b[0m\u001b[0;34m\u001b[0m\u001b[0m\n",
      "\u001b[0;31mValueError\u001b[0m: Unable to load weights saved in HDF5 format into a subclassed Model which has not created its variables yet. Call the Model first, then load the weights."
     ]
    }
   ],
   "source": [
    "from keras.models import load_model, model_from_json\n",
    "from PIL import Image\n",
    "import json\n",
    "import numpy as np \n",
    "\n",
    "# Load model from Json file \n",
    "json_file = open('model.json','r')\n",
    "loaded_model = json_file.read()\n",
    "json_file.close()\n",
    "\n",
    "load_model = model_from_json(loaded_model)\n",
    "load_model.load_weights('model.h5')\n",
    "\n",
    "# Load Image \n",
    "image = Image.open('real (2772).jpg') ## Test Image Path\n",
    "im = image.resize((200,200))\n",
    "\n",
    "im = np.asarray(im)\n",
    "im = np.reshape(im,(1,im.shape[0],im.shape[1],im.shape[2]))\n",
    "\n",
    "# Make Prediction \n",
    "prediction = load_model.predict(im)\n",
    "if prediction == 1:\n",
    "  print('Real Face')\n",
    "else:\n",
    "  print('Fake Face')"
   ]
  },
  {
   "cell_type": "code",
   "execution_count": null,
   "id": "e2a2f708",
   "metadata": {},
   "outputs": [],
   "source": []
  }
 ],
 "metadata": {
  "kernelspec": {
   "display_name": "Python 3 (ipykernel)",
   "language": "python",
   "name": "python3"
  },
  "language_info": {
   "codemirror_mode": {
    "name": "ipython",
    "version": 3
   },
   "file_extension": ".py",
   "mimetype": "text/x-python",
   "name": "python",
   "nbconvert_exporter": "python",
   "pygments_lexer": "ipython3",
   "version": "3.8.12"
  }
 },
 "nbformat": 4,
 "nbformat_minor": 5
}
