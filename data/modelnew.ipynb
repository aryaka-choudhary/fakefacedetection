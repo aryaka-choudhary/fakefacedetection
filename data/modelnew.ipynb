{
 "cells": [
  {
   "cell_type": "code",
   "execution_count": 1,
   "id": "f9118de9",
   "metadata": {},
   "outputs": [
    {
     "name": "stdout",
     "output_type": "stream",
     "text": [
      "Collecting efficientnet\n",
      "  Downloading efficientnet-1.1.1-py3-none-any.whl (18 kB)\n",
      "Collecting keras-applications<=1.0.8,>=1.0.7\n",
      "  Downloading Keras_Applications-1.0.8-py3-none-any.whl (50 kB)\n",
      "\u001b[K     |████████████████████████████████| 50 kB 1.9 MB/s eta 0:00:01\n",
      "\u001b[?25hCollecting scikit-image\n",
      "  Downloading scikit_image-0.19.0-cp38-cp38-macosx_10_13_x86_64.whl (35.8 MB)\n",
      "\u001b[K     |████████████████████████████████| 35.8 MB 483 kB/s eta 0:00:01\n",
      "\u001b[?25hRequirement already satisfied: numpy>=1.9.1 in /opt/homebrew/Caskroom/miniconda/base/lib/python3.8/site-packages (from keras-applications<=1.0.8,>=1.0.7->efficientnet) (1.21.4)\n",
      "Requirement already satisfied: h5py in /opt/homebrew/Caskroom/miniconda/base/lib/python3.8/site-packages (from keras-applications<=1.0.8,>=1.0.7->efficientnet) (3.6.0)\n",
      "Requirement already satisfied: networkx>=2.2 in /opt/homebrew/Caskroom/miniconda/base/lib/python3.8/site-packages (from scikit-image->efficientnet) (2.6.3)\n",
      "Requirement already satisfied: pillow!=7.1.0,!=7.1.1,!=8.3.0,>=6.1.0 in /opt/homebrew/Caskroom/miniconda/base/lib/python3.8/site-packages (from scikit-image->efficientnet) (8.4.0)\n",
      "Collecting tifffile>=2019.7.26\n",
      "  Downloading tifffile-2021.11.2-py3-none-any.whl (178 kB)\n",
      "\u001b[K     |████████████████████████████████| 178 kB 417 kB/s eta 0:00:01\n",
      "\u001b[?25hRequirement already satisfied: scipy>=1.4.1 in /opt/homebrew/Caskroom/miniconda/base/lib/python3.8/site-packages (from scikit-image->efficientnet) (1.7.1)\n",
      "Collecting imageio>=2.4.1\n",
      "  Downloading imageio-2.13.3-py3-none-any.whl (3.3 MB)\n",
      "\u001b[K     |████████████████████████████████| 3.3 MB 647 kB/s eta 0:00:01\n",
      "\u001b[?25hCollecting PyWavelets>=1.1.1\n",
      "  Downloading PyWavelets-1.2.0-cp38-cp38-macosx_10_13_x86_64.whl (4.3 MB)\n",
      "\u001b[K     |████████████████████████████████| 4.3 MB 258 kB/s eta 0:00:01\n",
      "\u001b[?25hRequirement already satisfied: packaging>=20.0 in /opt/homebrew/Caskroom/miniconda/base/lib/python3.8/site-packages (from scikit-image->efficientnet) (21.3)\n",
      "Requirement already satisfied: pyparsing!=3.0.5,>=2.0.2 in /opt/homebrew/Caskroom/miniconda/base/lib/python3.8/site-packages (from packaging>=20.0->scikit-image->efficientnet) (3.0.4)\n",
      "Installing collected packages: tifffile, PyWavelets, imageio, scikit-image, keras-applications, efficientnet\n",
      "Successfully installed PyWavelets-1.2.0 efficientnet-1.1.1 imageio-2.13.3 keras-applications-1.0.8 scikit-image-0.19.0 tifffile-2021.11.2\n"
     ]
    }
   ],
   "source": [
    "!pip install -U efficientnet"
   ]
  },
  {
   "cell_type": "code",
   "execution_count": 3,
   "id": "5a195414",
   "metadata": {},
   "outputs": [],
   "source": [
    "import efficientnet.keras as efn\n",
    "import os \n",
    "import zipfile \n",
    "import tensorflow as tf \n",
    "from tensorflow.keras.preprocessing.image import ImageDataGenerator \n",
    "from tensorflow.keras import layers \n",
    "from tensorflow.keras import Model \n",
    "import matplotlib.pyplot as plt"
   ]
  },
  {
   "cell_type": "code",
   "execution_count": 4,
   "id": "776fd8b4",
   "metadata": {},
   "outputs": [
    {
     "name": "stdout",
     "output_type": "stream",
     "text": [
      "Found 18000 images belonging to 2 classes.\n",
      "Found 0 images belonging to 0 classes.\n"
     ]
    }
   ],
   "source": [
    "train_datagen = ImageDataGenerator(rescale = 1./255., rotation_range = 40, width_shift_range = 0.2, height_shift_range = 0.2, shear_range = 0.2, zoom_range = 0.2, horizontal_flip = True)\n",
    "\n",
    "test_datagen = ImageDataGenerator(rescale = 1.0/255.)\n",
    "\n",
    "train_generator = train_datagen.flow_from_directory(directory = \"./train\", batch_size = 20, class_mode = 'binary', target_size = (224, 224))\n",
    "\n",
    "validation_generator = test_datagen.flow_from_directory( directory = \"./test\", batch_size = 20, class_mode = 'binary', target_size = (224, 224))"
   ]
  },
  {
   "cell_type": "code",
   "execution_count": 5,
   "id": "93632cdb",
   "metadata": {},
   "outputs": [
    {
     "name": "stderr",
     "output_type": "stream",
     "text": [
      "2021-12-15 22:10:21.306076: I tensorflow/core/platform/cpu_feature_guard.cc:142] This TensorFlow binary is optimized with oneAPI Deep Neural Network Library (oneDNN) to use the following CPU instructions in performance-critical operations:  SSE4.1 SSE4.2\n",
      "To enable them in other operations, rebuild TensorFlow with the appropriate compiler flags.\n"
     ]
    }
   ],
   "source": [
    "from tensorflow.keras.applications import EfficientNetB0\n",
    "model = EfficientNetB0(weights='imagenet')"
   ]
  },
  {
   "cell_type": "code",
   "execution_count": 6,
   "id": "b8cac2da",
   "metadata": {},
   "outputs": [],
   "source": [
    "model = EfficientNetB0(include_top=False, weights='imagenet')"
   ]
  },
  {
   "cell_type": "code",
   "execution_count": 7,
   "id": "bac42c84",
   "metadata": {},
   "outputs": [],
   "source": [
    "model = EfficientNetB0(weights='imagenet', drop_connect_rate=0.4)"
   ]
  },
  {
   "cell_type": "code",
   "execution_count": 8,
   "id": "226ba772",
   "metadata": {},
   "outputs": [],
   "source": [
    "for layer in model.layers:\n",
    "    layer.trainable = False"
   ]
  },
  {
   "cell_type": "code",
   "execution_count": null,
   "id": "377aacab",
   "metadata": {},
   "outputs": [],
   "source": []
  },
  {
   "cell_type": "code",
   "execution_count": 9,
   "id": "cddc1f10",
   "metadata": {},
   "outputs": [],
   "source": [
    "from tensorflow.keras import Model \n",
    "from keras.layers import Dense, Activation, Flatten,Dropout"
   ]
  },
  {
   "cell_type": "code",
   "execution_count": 10,
   "id": "9817c74d",
   "metadata": {},
   "outputs": [],
   "source": [
    "x = model.output\n",
    "x = Flatten()(x)\n",
    "x = Dense(1024, activation=\"relu\")(x)\n",
    "x = Dropout(0.5)(x)\n",
    "\n",
    "# Add a final sigmoid layer with 1 node for classification output\n",
    "predictions = Dense(1, activation=\"sigmoid\")(x)\n",
    "model_final = Model(model.input,predictions)"
   ]
  },
  {
   "cell_type": "code",
   "execution_count": 13,
   "id": "8dae0122",
   "metadata": {},
   "outputs": [],
   "source": [
    "model_final.compile(optimizer='rmsprop', loss='binary_crossentropy',metrics=['accuracy'])"
   ]
  },
  {
   "cell_type": "code",
   "execution_count": 16,
   "id": "10dff05b",
   "metadata": {},
   "outputs": [],
   "source": [
    "from keras.callbacks import ModelCheckpoint, EarlyStopping\n",
    "\n",
    "mc = ModelCheckpoint(filepath = \"./bestmodel.h5\",\n",
    "                     monitor = \"accuracy\", \n",
    "                     verbose = 1, \n",
    "                     save_best_only = True)\n",
    "es = EarlyStopping(monitor = \"accuracy\",\n",
    "                   min_delta = 0.01,\n",
    "                   patience=5,\n",
    "                   verbose=1)\n",
    "\n",
    "cb = [mc,es]"
   ]
  },
  {
   "cell_type": "code",
   "execution_count": 17,
   "id": "4116a5e5",
   "metadata": {},
   "outputs": [
    {
     "name": "stdout",
     "output_type": "stream",
     "text": [
      "Epoch 1/10\n",
      "100/100 [==============================] - 36s 357ms/step - loss: 0.6935 - accuracy: 0.4800\n",
      "\n",
      "Epoch 00001: accuracy improved from -inf to 0.48000, saving model to ./bestmodel.h5\n"
     ]
    },
    {
     "name": "stderr",
     "output_type": "stream",
     "text": [
      "/opt/homebrew/Caskroom/miniconda/base/lib/python3.8/site-packages/keras/utils/generic_utils.py:494: CustomMaskWarning: Custom mask layers require a config and must override get_config. When loading, the custom mask layer must be passed to the custom_objects argument.\n",
      "  warnings.warn('Custom mask layers require a config and must override '\n"
     ]
    },
    {
     "name": "stdout",
     "output_type": "stream",
     "text": [
      "Epoch 2/10\n",
      "100/100 [==============================] - 42s 423ms/step - loss: 0.6930 - accuracy: 0.5155\n",
      "\n",
      "Epoch 00002: accuracy improved from 0.48000 to 0.51550, saving model to ./bestmodel.h5\n",
      "Epoch 3/10\n",
      "100/100 [==============================] - 44s 441ms/step - loss: 0.6932 - accuracy: 0.5130\n",
      "\n",
      "Epoch 00003: accuracy did not improve from 0.51550\n",
      "Epoch 4/10\n",
      "100/100 [==============================] - 46s 454ms/step - loss: 0.6935 - accuracy: 0.4955\n",
      "\n",
      "Epoch 00004: accuracy did not improve from 0.51550\n",
      "Epoch 5/10\n",
      "100/100 [==============================] - 45s 451ms/step - loss: 0.6937 - accuracy: 0.4875\n",
      "\n",
      "Epoch 00005: accuracy did not improve from 0.51550\n",
      "Epoch 6/10\n",
      "100/100 [==============================] - 45s 451ms/step - loss: 0.6933 - accuracy: 0.4980\n",
      "\n",
      "Epoch 00006: accuracy did not improve from 0.51550\n",
      "Epoch 7/10\n",
      "100/100 [==============================] - 46s 461ms/step - loss: 0.6933 - accuracy: 0.5010\n",
      "\n",
      "Epoch 00007: accuracy did not improve from 0.51550\n",
      "Epoch 00007: early stopping\n"
     ]
    }
   ],
   "source": [
    "eff_history = model_final.fit_generator(train_generator, validation_data = validation_generator, steps_per_epoch =100,epochs = 10,callbacks = cb)"
   ]
  },
  {
   "cell_type": "code",
   "execution_count": 25,
   "id": "907e2391",
   "metadata": {},
   "outputs": [],
   "source": [
    "import pandas as pd\n",
    "from keras.preprocessing.image import ImageDataGenerator, load_img, img_to_array\n",
    "from keras.applications.inception_v3 import preprocess_input\n",
    "import numpy as np\n",
    "\n",
    "df = pd.read_csv('./test.csv')\n",
    "\n",
    "path = df['path']\n",
    "\n",
    "predictions = []\n",
    "for paths in path:\n",
    "    img = load_img(paths, target_size = (224, 224) )\n",
    "\n",
    "    i = img_to_array(img)\n",
    "\n",
    "    i = preprocess_input(i)\n",
    "\n",
    "    input_arr = np.array([i])\n",
    "    input_arr.shape\n",
    "\n",
    "    pred = np.argmax(model_final.predict(input_arr))\n",
    "\n",
    "    if pred == 0:\n",
    "        predictions.append(\"fake\")\n",
    "    else:\n",
    "        predictions.append(\"real\")"
   ]
  },
  {
   "cell_type": "code",
   "execution_count": 34,
   "id": "08d45ee2",
   "metadata": {},
   "outputs": [],
   "source": [
    "path['label'] = predictions"
   ]
  },
  {
   "cell_type": "code",
   "execution_count": 35,
   "id": "f6db8ab1",
   "metadata": {},
   "outputs": [],
   "source": [
    "path = df['path']"
   ]
  },
  {
   "cell_type": "code",
   "execution_count": 36,
   "id": "6bfb6d2e",
   "metadata": {},
   "outputs": [],
   "source": [
    "dff = pd.DataFrame(path)\n",
    "dff['label'] = predictions\n",
    "dff.to_csv('submit.csv', index = False)"
   ]
  },
  {
   "cell_type": "code",
   "execution_count": 45,
   "id": "a360a550",
   "metadata": {},
   "outputs": [
    {
     "name": "stdout",
     "output_type": "stream",
     "text": [
      "fake\n"
     ]
    }
   ],
   "source": [
    "img = load_img(\"data/test/00010.jpg\", target_size = (224, 224))\n",
    "\n",
    "i = img_to_array(img)\n",
    "\n",
    "i = preprocess_input(i)\n",
    "\n",
    "input_arr = np.array([i])\n",
    "pred = np.argmax(model_final.predict(input_arr))\n",
    "\n",
    "if pred == 0:\n",
    "    print(\"fake\")\n",
    "else:\n",
    "    print(\"real\")\n",
    "    \n"
   ]
  },
  {
   "cell_type": "code",
   "execution_count": null,
   "id": "0830b2ad",
   "metadata": {},
   "outputs": [],
   "source": []
  }
 ],
 "metadata": {
  "kernelspec": {
   "display_name": "Python 3.8.12 64-bit ('base': conda)",
   "language": "python",
   "name": "python3812jvsc74a57bd0ff1451f766ff1f2aab9fee63bb48cc74e2e1277d7805d9df96af52a7af6088e7"
  },
  "language_info": {
   "codemirror_mode": {
    "name": "ipython",
    "version": 3
   },
   "file_extension": ".py",
   "mimetype": "text/x-python",
   "name": "python",
   "nbconvert_exporter": "python",
   "pygments_lexer": "ipython3",
   "version": "3.8.12"
  }
 },
 "nbformat": 4,
 "nbformat_minor": 5
}
